{
 "cells": [
  {
   "cell_type": "markdown",
   "metadata": {},
   "source": [
    "# Lognormal distributions in inventories\n",
    "\n",
    "Building on notebooks 1 and 2, we now look at the lognormal distribution, which is the basis for 99% of exchanges in ecoinvent which have uncertainty.\n",
    "\n",
    "We start by importing the necessary libraries, and switching to the Brightway project that was set up in notebook 1."
   ]
  },
  {
   "cell_type": "code",
   "execution_count": 7,
   "metadata": {},
   "outputs": [],
   "source": [
    "%matplotlib inline"
   ]
  },
  {
   "cell_type": "code",
   "execution_count": 8,
   "metadata": {},
   "outputs": [],
   "source": [
    "import seaborn as sb\n",
    "import matplotlib.pyplot as plt"
   ]
  },
  {
   "cell_type": "code",
   "execution_count": 22,
   "metadata": {},
   "outputs": [],
   "source": [
    "import bw2data as bwd\n",
    "import bw_processing as bwp\n",
    "import stats_arrays as sa\n",
    "import pandas as pd\n",
    "import numpy as np\n",
    "from scipy import stats"
   ]
  },
  {
   "cell_type": "code",
   "execution_count": 10,
   "metadata": {},
   "outputs": [],
   "source": [
    "bwd.projects.set_current(\"OASES uncertainty review\")"
   ]
  },
  {
   "cell_type": "code",
   "execution_count": 11,
   "metadata": {},
   "outputs": [],
   "source": [
    "db = bwd.Database(\"ecoinvent 3.6 cutoff\")"
   ]
  },
  {
   "cell_type": "code",
   "execution_count": 12,
   "metadata": {},
   "outputs": [],
   "source": [
    "package = bwp.load_package(db.filepath_processed())\n",
    "technosphere_array = package['technosphere_matrix.npy']\n",
    "biosphere_array = package['biosphere_matrix.npy']\n",
    "all_array = np.hstack([technosphere_array, biosphere_array])"
   ]
  },
  {
   "cell_type": "markdown",
   "metadata": {},
   "source": [
    "# Utility function to look up exchanges"
   ]
  },
  {
   "cell_type": "code",
   "execution_count": 37,
   "metadata": {},
   "outputs": [],
   "source": [
    "def label_exchanges(array):\n",
    "    rm = {j: i for i, j in bwd.mapping.items()}\n",
    "    inputs = [bwd.get_activity(rm[i]) for i in array['row_value']]\n",
    "    outputs = [bwd.get_activity(rm[i]) for i in array['col_value']]\n",
    "    return pd.DataFrame([{\n",
    "        'input name': i['name'],\n",
    "        'input location': i.get('location'),\n",
    "        'input unit': i['unit'],\n",
    "        'output name': o['name'],\n",
    "        'output location': o.get('location'),\n",
    "        'output unit': o['unit'],\n",
    "        'amount': r['amount'],\n",
    "        'scale': r['scale'],\n",
    "    } for i, o, r in zip(inputs, outputs, array)])"
   ]
  },
  {
   "cell_type": "markdown",
   "metadata": {},
   "source": [
    "# The lognormal distribution\n",
    "\n",
    "The lognormal distribution is characterized by two input parameters: $\\mu$ and $\\sigma$. Rather than rephrasing, you can read the [description in Wikipedia](https://en.wikipedia.org/wiki/Log-normal_distribution#Generation_and_parameters), it is dry but clear.\n",
    "\n",
    "To do some sanity checks, we need to define a metric. Natural processes can sometimes have quite high variability, though the averaging effect should help us reduce uncertainty, as most ecoinvent processes are the average of many places and times. \n",
    "\n",
    "One possible metric is to raise a flag if there is a 1% chance that the sampled value is more than 100 times the median. $\\sigma$ is scale-independent, but as the analytical formulae get complicated, we let the libraries do the math."
   ]
  },
  {
   "cell_type": "code",
   "execution_count": 13,
   "metadata": {},
   "outputs": [],
   "source": [
    "lognormal = all_array[all_array['uncertainty_type'] == sa.LognormalUncertainty.id]"
   ]
  },
  {
   "cell_type": "code",
   "execution_count": 16,
   "metadata": {},
   "outputs": [
    {
     "data": {
      "text/plain": [
       "(376115, 1420)"
      ]
     },
     "execution_count": 16,
     "metadata": {},
     "output_type": "execute_result"
    }
   ],
   "source": [
    "mask = (sa.LognormalUncertainty.ppf(lognormal, np.ones(lognormal.shape) * 0.99).ravel() / lognormal['amount']) >= 100\n",
    "lognormal.shape[0], mask.sum()"
   ]
  },
  {
   "cell_type": "markdown",
   "metadata": {},
   "source": [
    "That is quite a few exchanges with high uncertainty. Let's look at the split across technosphere and biosphere."
   ]
  },
  {
   "cell_type": "code",
   "execution_count": 17,
   "metadata": {},
   "outputs": [],
   "source": [
    "lognormal_t = technosphere_array[technosphere_array['uncertainty_type'] == sa.LognormalUncertainty.id]\n",
    "lognormal_b = biosphere_array[biosphere_array['uncertainty_type'] == sa.LognormalUncertainty.id]"
   ]
  },
  {
   "cell_type": "code",
   "execution_count": 18,
   "metadata": {},
   "outputs": [
    {
     "data": {
      "text/plain": [
       "(14, 1406)"
      ]
     },
     "execution_count": 18,
     "metadata": {},
     "output_type": "execute_result"
    }
   ],
   "source": [
    "mask_t = (sa.LognormalUncertainty.ppf(lognormal_t, np.ones(lognormal_t.shape) * 0.99).ravel() / lognormal_t['amount']) >= 100\n",
    "mask_b = (sa.LognormalUncertainty.ppf(lognormal_b, np.ones(lognormal_b.shape) * 0.99).ravel() / lognormal_b['amount']) >= 100\n",
    "mask_t.sum(), mask_b.sum()"
   ]
  },
  {
   "cell_type": "code",
   "execution_count": 40,
   "metadata": {},
   "outputs": [
    {
     "data": {
      "text/html": [
       "<div>\n",
       "<style scoped>\n",
       "    .dataframe tbody tr th:only-of-type {\n",
       "        vertical-align: middle;\n",
       "    }\n",
       "\n",
       "    .dataframe tbody tr th {\n",
       "        vertical-align: top;\n",
       "    }\n",
       "\n",
       "    .dataframe thead th {\n",
       "        text-align: right;\n",
       "    }\n",
       "</style>\n",
       "<table border=\"1\" class=\"dataframe\">\n",
       "  <thead>\n",
       "    <tr style=\"text-align: right;\">\n",
       "      <th></th>\n",
       "      <th>input name</th>\n",
       "      <th>input location</th>\n",
       "      <th>input unit</th>\n",
       "      <th>output name</th>\n",
       "      <th>output location</th>\n",
       "      <th>output unit</th>\n",
       "      <th>amount</th>\n",
       "      <th>scale</th>\n",
       "    </tr>\n",
       "  </thead>\n",
       "  <tbody>\n",
       "    <tr>\n",
       "      <th>5</th>\n",
       "      <td>market for aluminium, cast alloy</td>\n",
       "      <td>GLO</td>\n",
       "      <td>kilogram</td>\n",
       "      <td>skidder production</td>\n",
       "      <td>GLO</td>\n",
       "      <td>unit</td>\n",
       "      <td>117.000000</td>\n",
       "      <td>4.883827</td>\n",
       "    </tr>\n",
       "    <tr>\n",
       "      <th>1</th>\n",
       "      <td>market for aluminium, cast alloy</td>\n",
       "      <td>GLO</td>\n",
       "      <td>kilogram</td>\n",
       "      <td>forwarder production, with terrain chipper</td>\n",
       "      <td>GLO</td>\n",
       "      <td>unit</td>\n",
       "      <td>80.599998</td>\n",
       "      <td>4.494976</td>\n",
       "    </tr>\n",
       "    <tr>\n",
       "      <th>3</th>\n",
       "      <td>market for aluminium, cast alloy</td>\n",
       "      <td>GLO</td>\n",
       "      <td>kilogram</td>\n",
       "      <td>chipper production, mobile, diesel</td>\n",
       "      <td>RoW</td>\n",
       "      <td>unit</td>\n",
       "      <td>578.150024</td>\n",
       "      <td>4.494976</td>\n",
       "    </tr>\n",
       "    <tr>\n",
       "      <th>4</th>\n",
       "      <td>market for aluminium, cast alloy</td>\n",
       "      <td>GLO</td>\n",
       "      <td>kilogram</td>\n",
       "      <td>forwarder production</td>\n",
       "      <td>GLO</td>\n",
       "      <td>unit</td>\n",
       "      <td>80.599998</td>\n",
       "      <td>4.494976</td>\n",
       "    </tr>\n",
       "    <tr>\n",
       "      <th>2</th>\n",
       "      <td>market for aluminium, cast alloy</td>\n",
       "      <td>GLO</td>\n",
       "      <td>kilogram</td>\n",
       "      <td>energy wood harvester production</td>\n",
       "      <td>GLO</td>\n",
       "      <td>unit</td>\n",
       "      <td>626.974976</td>\n",
       "      <td>3.486625</td>\n",
       "    </tr>\n",
       "    <tr>\n",
       "      <th>0</th>\n",
       "      <td>market for aluminium, cast alloy</td>\n",
       "      <td>GLO</td>\n",
       "      <td>kilogram</td>\n",
       "      <td>forestry harvester production</td>\n",
       "      <td>GLO</td>\n",
       "      <td>unit</td>\n",
       "      <td>41.395000</td>\n",
       "      <td>2.910022</td>\n",
       "    </tr>\n",
       "    <tr>\n",
       "      <th>7</th>\n",
       "      <td>market for enzymes</td>\n",
       "      <td>GLO</td>\n",
       "      <td>kilogram</td>\n",
       "      <td>mango production, conditioned, wax treatment</td>\n",
       "      <td>RoW</td>\n",
       "      <td>kilogram</td>\n",
       "      <td>0.000155</td>\n",
       "      <td>2.458495</td>\n",
       "    </tr>\n",
       "    <tr>\n",
       "      <th>6</th>\n",
       "      <td>market for enzymes</td>\n",
       "      <td>GLO</td>\n",
       "      <td>kilogram</td>\n",
       "      <td>mango production, conditioned, wax treatment</td>\n",
       "      <td>BR</td>\n",
       "      <td>kilogram</td>\n",
       "      <td>0.000155</td>\n",
       "      <td>2.458089</td>\n",
       "    </tr>\n",
       "    <tr>\n",
       "      <th>13</th>\n",
       "      <td>heat production, mixed logs, at furnace 100kW</td>\n",
       "      <td>RoW</td>\n",
       "      <td>megajoule</td>\n",
       "      <td>concrete block production</td>\n",
       "      <td>BR</td>\n",
       "      <td>kilogram</td>\n",
       "      <td>0.021528</td>\n",
       "      <td>2.114640</td>\n",
       "    </tr>\n",
       "    <tr>\n",
       "      <th>8</th>\n",
       "      <td>market for wood chips, wet, measured as dry mass</td>\n",
       "      <td>RoW</td>\n",
       "      <td>kilogram</td>\n",
       "      <td>clinker production</td>\n",
       "      <td>BR</td>\n",
       "      <td>kilogram</td>\n",
       "      <td>0.000274</td>\n",
       "      <td>2.064437</td>\n",
       "    </tr>\n",
       "    <tr>\n",
       "      <th>9</th>\n",
       "      <td>market for heat, from steam, in chemical industry</td>\n",
       "      <td>RER</td>\n",
       "      <td>megajoule</td>\n",
       "      <td>sodium chloride electrolysis</td>\n",
       "      <td>RER</td>\n",
       "      <td>kilogram</td>\n",
       "      <td>4.708026</td>\n",
       "      <td>2.044016</td>\n",
       "    </tr>\n",
       "    <tr>\n",
       "      <th>10</th>\n",
       "      <td>market for heat, from steam, in chemical industry</td>\n",
       "      <td>RER</td>\n",
       "      <td>megajoule</td>\n",
       "      <td>sodium chloride electrolysis</td>\n",
       "      <td>RER</td>\n",
       "      <td>kilogram</td>\n",
       "      <td>0.392800</td>\n",
       "      <td>2.044016</td>\n",
       "    </tr>\n",
       "    <tr>\n",
       "      <th>11</th>\n",
       "      <td>market for heat, from steam, in chemical industry</td>\n",
       "      <td>RoW</td>\n",
       "      <td>megajoule</td>\n",
       "      <td>sodium chloride electrolysis</td>\n",
       "      <td>RoW</td>\n",
       "      <td>kilogram</td>\n",
       "      <td>4.708026</td>\n",
       "      <td>2.044016</td>\n",
       "    </tr>\n",
       "    <tr>\n",
       "      <th>12</th>\n",
       "      <td>market for heat, from steam, in chemical industry</td>\n",
       "      <td>RoW</td>\n",
       "      <td>megajoule</td>\n",
       "      <td>sodium chloride electrolysis</td>\n",
       "      <td>RoW</td>\n",
       "      <td>kilogram</td>\n",
       "      <td>0.392800</td>\n",
       "      <td>2.044016</td>\n",
       "    </tr>\n",
       "  </tbody>\n",
       "</table>\n",
       "</div>"
      ],
      "text/plain": [
       "                                           input name input location  \\\n",
       "5                    market for aluminium, cast alloy            GLO   \n",
       "1                    market for aluminium, cast alloy            GLO   \n",
       "3                    market for aluminium, cast alloy            GLO   \n",
       "4                    market for aluminium, cast alloy            GLO   \n",
       "2                    market for aluminium, cast alloy            GLO   \n",
       "0                    market for aluminium, cast alloy            GLO   \n",
       "7                                  market for enzymes            GLO   \n",
       "6                                  market for enzymes            GLO   \n",
       "13      heat production, mixed logs, at furnace 100kW            RoW   \n",
       "8    market for wood chips, wet, measured as dry mass            RoW   \n",
       "9   market for heat, from steam, in chemical industry            RER   \n",
       "10  market for heat, from steam, in chemical industry            RER   \n",
       "11  market for heat, from steam, in chemical industry            RoW   \n",
       "12  market for heat, from steam, in chemical industry            RoW   \n",
       "\n",
       "   input unit                                   output name output location  \\\n",
       "5    kilogram                            skidder production             GLO   \n",
       "1    kilogram    forwarder production, with terrain chipper             GLO   \n",
       "3    kilogram            chipper production, mobile, diesel             RoW   \n",
       "4    kilogram                          forwarder production             GLO   \n",
       "2    kilogram              energy wood harvester production             GLO   \n",
       "0    kilogram                 forestry harvester production             GLO   \n",
       "7    kilogram  mango production, conditioned, wax treatment             RoW   \n",
       "6    kilogram  mango production, conditioned, wax treatment              BR   \n",
       "13  megajoule                     concrete block production              BR   \n",
       "8    kilogram                            clinker production              BR   \n",
       "9   megajoule                  sodium chloride electrolysis             RER   \n",
       "10  megajoule                  sodium chloride electrolysis             RER   \n",
       "11  megajoule                  sodium chloride electrolysis             RoW   \n",
       "12  megajoule                  sodium chloride electrolysis             RoW   \n",
       "\n",
       "   output unit      amount     scale  \n",
       "5         unit  117.000000  4.883827  \n",
       "1         unit   80.599998  4.494976  \n",
       "3         unit  578.150024  4.494976  \n",
       "4         unit   80.599998  4.494976  \n",
       "2         unit  626.974976  3.486625  \n",
       "0         unit   41.395000  2.910022  \n",
       "7     kilogram    0.000155  2.458495  \n",
       "6     kilogram    0.000155  2.458089  \n",
       "13    kilogram    0.021528  2.114640  \n",
       "8     kilogram    0.000274  2.064437  \n",
       "9     kilogram    4.708026  2.044016  \n",
       "10    kilogram    0.392800  2.044016  \n",
       "11    kilogram    4.708026  2.044016  \n",
       "12    kilogram    0.392800  2.044016  "
      ]
     },
     "execution_count": 40,
     "metadata": {},
     "output_type": "execute_result"
    }
   ],
   "source": [
    "label_exchanges(lognormal_t[mask_t]).sort_values('scale', ascending=False)"
   ]
  },
  {
   "cell_type": "markdown",
   "metadata": {},
   "source": [
    "I am 99% sure that these values were entered incorrectly. Scale ($\\sigma$) values should be close to zero, and more than 1 is already quite high. 4 is insane. Here is a plot of a standard (i.e. $\\mu = 0$) distribution with various $\\sigma$ values:"
   ]
  },
  {
   "cell_type": "code",
   "execution_count": 27,
   "metadata": {},
   "outputs": [
    {
     "data": {
      "text/plain": [
       "Text(0.5, 0, 'Value')"
      ]
     },
     "execution_count": 27,
     "metadata": {},
     "output_type": "execute_result"
    },
    {
     "data": {
      "image/png": "[encoded data removed]",
      "text/plain": [
       "<Figure size 720x432 with 1 Axes>"
      ]
     },
     "metadata": {
      "needs_background": "light"
     },
     "output_type": "display_data"
    }
   ],
   "source": [
    "plt.figure(figsize=(10, 6))\n",
    "\n",
    "xs = np.linspace(0, 5, 1000)\n",
    "\n",
    "for s in [0.05, 0.1, 0.2, 0.5, 1., 2., 4.]:\n",
    "    ys = stats.lognorm.pdf(xs, s, scale=np.ones_like(xs))\n",
    "    plt.plot(xs, ys, label=f\"$\\sigma = {s}$\")\n",
    "    \n",
    "plt.legend()\n",
    "plt.ylabel(\"Probability\")\n",
    "plt.xlabel(\"Value\")"
   ]
  },
  {
   "cell_type": "markdown",
   "metadata": {},
   "source": [
    "Note how the *shape* of the distribution has to change to get the median in the right place when the tails are very long. Remember, the median of *all these distributions* is the same (one)! Imagine how long the tail has to be for the brown and pink distributions to have half their values more than one.\n",
    "\n",
    "For a lit bit of context, the lines we commented out in notebook 1 fixed $\\sigma$ values of more than **25**, which happily are not in the current version of ecoinvent, but were present in 3.1 or 3.2."
   ]
  },
  {
   "cell_type": "markdown",
   "metadata": {},
   "source": [
    "We can also see the effect of large lognormal uncertainties by looking at how the *mean* decreases with increasing uncertainty. The mean of a lognormal is:\n",
    "\n",
    "$$exp{(\\mu + \\frac{\\sigma^{2}}{2})}$$"
   ]
  },
  {
   "cell_type": "markdown",
   "metadata": {},
   "source": [
    "Coming back to our table of technosphere exchanges, lets look at one case: aluminium inputs into [forwarder](https://en.wikipedia.org/wiki/Forwarder) production. The dataset is [available online](https://v36.ecoquery.ecoinvent.org/Details/UPR/09d1ca84-4f60-464a-b02b-a956f739c9dd/290c1f85-4cc4-4fa1-b0c8-2cb7f4276dce), but I copy one line from the description here: \"This dataset contains a medium sized forwarder class II (10 - 12t), with a total weight of 11,049 kg...\" Our basic value is around 80 kilograms of aluminium.\n",
    "\n",
    "Let's calculate the chance that our RNG pulls a value of more than 11.049 kg of *just aluminium* for this vehicle:"
   ]
  },
  {
   "cell_type": "code",
   "execution_count": 29,
   "metadata": {},
   "outputs": [
    {
     "data": {
      "text/plain": [
       "0.13682665952493323"
      ]
     },
     "execution_count": 29,
     "metadata": {},
     "output_type": "execute_result"
    }
   ],
   "source": [
    "1 - stats.lognorm.cdf(11049, 4.494976, scale=80.599998)"
   ]
  },
  {
   "cell_type": "markdown",
   "metadata": {},
   "source": [
    "As the Dutch say, \"c'est pas bon.\" Let's get a little sillier. What is the chance that this specified distribution gives more atoms of aluminium than there are atoms in the sun? There are about $10^{57}$ [atoms in our sun](https://www.universetoday.com/36302/atoms-in-the-universe/). Aluminium in its metallic form is usually an alloy, but is still mosstly aluminium, which has an atomic weight of 26.9815. Avogadro's number is 6.02214076 × $10^{23}$, so we are looking for the following kilograms of aluminium:\n",
    "\n",
    "$$10^{57} atoms \\, / \\, 6.02214076 \\cdot 10^{23} \\, \\frac{atoms}{mol} \\, / \\, 26.9815 \\, \\frac{grams}{mol} \\, / \\, 1000 \\, \\frac{grams}{kg}$$\n",
    "\n",
    "**edit**: OK, this went to far. Probability was zero.\n",
    "\n",
    "What about this one loader using more aluminium than is produced worldwide in one year? According to [World Aluminium](http://www.world-aluminium.org/statistics/), 63.697.000 tons are produced per year."
   ]
  },
  {
   "cell_type": "code",
   "execution_count": 36,
   "metadata": {},
   "outputs": [
    {
     "data": {
      "text/plain": [
       "2.5826876882684147e-06"
      ]
     },
     "execution_count": 36,
     "metadata": {},
     "output_type": "execute_result"
    }
   ],
   "source": [
    "1 - stats.lognorm.cdf(6.3697e10, 4.494976, scale=80.599998)"
   ]
  },
  {
   "cell_type": "markdown",
   "metadata": {},
   "source": [
    "Only two in a million... still, that would be a big ass forwarder!"
   ]
  }
 ],
 "metadata": {
  "kernelspec": {
   "display_name": "Python 3",
   "language": "python",
   "name": "python3"
  },
  "language_info": {
   "codemirror_mode": {
    "name": "ipython",
    "version": 3
   },
   "file_extension": ".py",
   "mimetype": "text/x-python",
   "name": "python",
   "nbconvert_exporter": "python",
   "pygments_lexer": "ipython3",
   "version": "3.7.6"
  }
 },
 "nbformat": 4,
 "nbformat_minor": 4
}
