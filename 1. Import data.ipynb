{
 "cells": [
  {
   "cell_type": "markdown",
   "metadata": {},
   "source": [
    "# Import data\n",
    "\n",
    "We will use [Brightway](https://brightway.dev/); however, Brightway automatically corrects some unreasonable uncertainty values, so we need to make sure these corrections are not applied. We do keep our corrections for impossible values (i.e. min == max)."
   ]
  },
  {
   "cell_type": "code",
   "execution_count": 1,
   "metadata": {},
   "outputs": [],
   "source": [
    "from bw2data import *\n",
    "from bw2io import *\n",
    "projects.set_current(\"OASES uncertainty review\")"
   ]
  },
  {
   "cell_type": "code",
   "execution_count": 7,
   "metadata": {},
   "outputs": [
    {
     "name": "stdout",
     "output_type": "stream",
     "text": [
      "Creating default biosphere\n",
      "\n"
     ]
    },
    {
     "name": "stderr",
     "output_type": "stream",
     "text": [
      "Writing activities to SQLite3 database:\n"
     ]
    },
    {
     "name": "stdout",
     "output_type": "stream",
     "text": [
      "Applying strategy: normalize_units\n",
      "Applying strategy: drop_unspecified_subcategories\n",
      "Applied 2 strategies in 0.01 seconds\n"
     ]
    },
    {
     "name": "stderr",
     "output_type": "stream",
     "text": [
      "0% [##############################] 100% | ETA: 00:00:00\n",
      "Total time elapsed: 00:00:00\n"
     ]
    },
    {
     "name": "stdout",
     "output_type": "stream",
     "text": [
      "Title: Writing activities to SQLite3 database:\n",
      "  Started: 07/03/2020 09:01:39\n",
      "  Finished: 07/03/2020 09:01:40\n",
      "  Total time elapsed: 00:00:00\n",
      "  CPU %: 64.10\n",
      "  Memory %: 1.10\n",
      "Created database: biosphere3\n",
      "Creating default LCIA methods\n",
      "\n",
      "Applying strategy: normalize_units\n",
      "Applying strategy: set_biosphere_type\n",
      "Applying strategy: drop_unspecified_subcategories\n",
      "Applying strategy: link_iterable_by_fields\n",
      "Applied 4 strategies in 1.92 seconds\n",
      "Wrote 850 LCIA methods with 219059 characterization factors\n",
      "Creating core data migrations\n",
      "\n"
     ]
    }
   ],
   "source": [
    "bw2setup()"
   ]
  },
  {
   "cell_type": "code",
   "execution_count": 2,
   "metadata": {},
   "outputs": [],
   "source": [
    "from bw2io.extractors.ecospold2 import *"
   ]
  },
  {
   "cell_type": "code",
   "execution_count": 3,
   "metadata": {},
   "outputs": [],
   "source": [
    "class DumbEcospold2DataExtractor(Ecospold2DataExtractor):\n",
    "    @classmethod\n",
    "    def extract_uncertainty_dict(cls, obj):\n",
    "        data = {\n",
    "            'amount': float(obj.get('amount')),\n",
    "        }\n",
    "        if obj.get('formula'):\n",
    "            data['formula'] = obj.get('formula')\n",
    "\n",
    "        if hasattr(obj, \"uncertainty\"):\n",
    "            unc = obj.uncertainty\n",
    "            if hasattr(unc, \"pedigreeMatrix\"):\n",
    "                data['pedigree'] = dict([(\n",
    "                    PM_MAPPING[key], int(unc.pedigreeMatrix.get(key)))\n",
    "                    for key in PM_MAPPING\n",
    "                ])\n",
    "\n",
    "            if hasattr(unc, \"lognormal\"):\n",
    "                data.update({\n",
    "                    'uncertainty type': LognormalUncertainty.id,\n",
    "                    \"loc\": float(unc.lognormal.get('mu')),\n",
    "                    \"scale\": math.sqrt(float(unc.lognormal.get(\"varianceWithPedigreeUncertainty\"))),\n",
    "                })\n",
    "                if unc.lognormal.get('variance'):\n",
    "                    data[\"scale without pedigree\"] = math.sqrt(float(unc.lognormal.get('variance')))\n",
    "                if data[\"scale\"] <= 0:\n",
    "                    cls.abort_exchange(data, TOO_LOW.format(data['scale']))\n",
    "                # This is the only change versus the base class\n",
    "                #                 elif data[\"scale\"] > 25:\n",
    "                #                     cls.abort_exchange(data, TOO_HIGH.format(data['scale']))\n",
    "            elif hasattr(unc, 'normal'):\n",
    "                data.update({\n",
    "                    \"uncertainty type\": NormalUncertainty.id,\n",
    "                    \"loc\": float(unc.normal.get('meanValue')),\n",
    "                    \"scale\": math.sqrt(float(unc.normal.get('varianceWithPedigreeUncertainty'))),\n",
    "                })\n",
    "                if unc.normal.get('variance'):\n",
    "                    data[\"scale without pedigree\"] = math.sqrt(float(unc.normal.get('variance')))\n",
    "                if data[\"scale\"] <= 0:\n",
    "                    cls.abort_exchange(data)\n",
    "            elif hasattr(unc, 'triangular'):\n",
    "                data.update({\n",
    "                    'uncertainty type': TriangularUncertainty.id,\n",
    "                    'minimum': float(unc.triangular.get('minValue')),\n",
    "                    'loc': float(unc.triangular.get('mostLikelyValue')),\n",
    "                    'maximum': float(unc.triangular.get('maxValue'))\n",
    "                })\n",
    "                if data[\"minimum\"] >= data[\"maximum\"]:\n",
    "                    cls.abort_exchange(data)\n",
    "            elif hasattr(unc, 'uniform'):\n",
    "                data.update({\n",
    "                    \"uncertainty type\": UniformUncertainty.id,\n",
    "                    \"loc\": data['amount'],\n",
    "                    'minimum': float(unc.uniform.get('minValue')),\n",
    "                    'maximum': float(unc.uniform.get('maxValue')),\n",
    "                })\n",
    "                if data[\"minimum\"] >= data[\"maximum\"]:\n",
    "                    cls.abort_exchange(data)\n",
    "            elif hasattr(unc, 'undefined'):\n",
    "                data.update({\n",
    "                    \"uncertainty type\": UndefinedUncertainty.id,\n",
    "                    \"loc\": data['amount'],\n",
    "                })\n",
    "            else:\n",
    "                raise ValueError(\"Unknown uncertainty type\")\n",
    "        else:\n",
    "            data.update({\n",
    "                \"uncertainty type\": UndefinedUncertainty.id,\n",
    "                \"loc\": data['amount'],\n",
    "            })\n",
    "        return data    "
   ]
  },
  {
   "cell_type": "code",
   "execution_count": 4,
   "metadata": {},
   "outputs": [],
   "source": [
    "from bw2io.importers.ecospold2 import *"
   ]
  },
  {
   "cell_type": "code",
   "execution_count": 9,
   "metadata": {},
   "outputs": [],
   "source": [
    "class DumbSingleOutputEcospold2Importer(SingleOutputEcospold2Importer):\n",
    "    def __init__(self, *args, **kwargs):\n",
    "        super().__init__(*args, **kwargs)\n",
    "        self.strategies = [\n",
    "            normalize_units,\n",
    "            update_ecoinvent_locations,\n",
    "            remove_zero_amount_coproducts,\n",
    "            remove_zero_amount_inputs_with_no_activity,\n",
    "            remove_unnamed_parameters,\n",
    "            es2_assign_only_product_with_amount_as_reference_product,\n",
    "            assign_single_product_as_activity,\n",
    "            create_composite_code,\n",
    "            drop_unspecified_subcategories,\n",
    "            fix_ecoinvent_flows_pre35,\n",
    "            drop_temporary_outdated_biosphere_flows,\n",
    "            link_biosphere_by_flow_uuid,\n",
    "            link_internal_technosphere_by_composite_code,\n",
    "            delete_exchanges_missing_activity,\n",
    "            delete_ghost_exchanges,\n",
    "            # Don't do these corrections to get \"true\" values\n",
    "            # remove_uncertainty_from_negative_loss_exchanges,\n",
    "            # fix_unreasonably_high_lognormal_uncertainties,\n",
    "            set_lognormal_loc_value,\n",
    "            convert_activity_parameters_to_list,\n",
    "            add_cpc_classification_from_single_reference_product,\n",
    "        ]"
   ]
  },
  {
   "cell_type": "code",
   "execution_count": 10,
   "metadata": {},
   "outputs": [],
   "source": [
    "dirpath = \"/Users/cmutel/Documents/LCA/Ecoinvent/3.6/cutoff/datasets\""
   ]
  },
  {
   "cell_type": "code",
   "execution_count": 11,
   "metadata": {},
   "outputs": [
    {
     "name": "stdout",
     "output_type": "stream",
     "text": [
      "Extracting XML data from 18121 datasets\n",
      "Extracted 18121 datasets in 94.93 seconds\n",
      "Applying strategy: normalize_units\n",
      "Applying strategy: update_ecoinvent_locations\n",
      "Applying strategy: remove_zero_amount_coproducts\n",
      "Applying strategy: remove_zero_amount_inputs_with_no_activity\n",
      "Applying strategy: remove_unnamed_parameters\n",
      "Applying strategy: es2_assign_only_product_with_amount_as_reference_product\n",
      "Applying strategy: assign_single_product_as_activity\n",
      "Applying strategy: create_composite_code\n",
      "Applying strategy: drop_unspecified_subcategories\n",
      "Applying strategy: fix_ecoinvent_flows_pre35\n",
      "Applying strategy: drop_temporary_outdated_biosphere_flows\n",
      "Applying strategy: link_biosphere_by_flow_uuid\n",
      "Applying strategy: link_internal_technosphere_by_composite_code\n",
      "Applying strategy: delete_exchanges_missing_activity\n",
      "Applying strategy: delete_ghost_exchanges\n",
      "Applying strategy: set_lognormal_loc_value\n",
      "Applying strategy: convert_activity_parameters_to_list\n",
      "Applying strategy: add_cpc_classification_from_single_reference_product\n",
      "Applied 18 strategies in 7.58 seconds\n",
      "18121 datasets\n",
      "615644 exchanges\n",
      "0 unlinked exchanges\n",
      "  \n"
     ]
    },
    {
     "data": {
      "text/plain": [
       "(18121, 615644, 0)"
      ]
     },
     "execution_count": 11,
     "metadata": {},
     "output_type": "execute_result"
    }
   ],
   "source": [
    "ei = DumbSingleOutputEcospold2Importer(\n",
    "    dirpath=dirpath,\n",
    "    db_name=\"ecoinvent 3.6 cutoff\",\n",
    "    extractor=DumbEcospold2DataExtractor\n",
    ")\n",
    "ei.apply_strategies()\n",
    "ei.statistics()"
   ]
  },
  {
   "cell_type": "code",
   "execution_count": 12,
   "metadata": {},
   "outputs": [
    {
     "name": "stderr",
     "output_type": "stream",
     "text": [
      "Writing activities to SQLite3 database:\n",
      "0% [##############################] 100% | ETA: 00:00:00\n",
      "Total time elapsed: 00:01:02\n"
     ]
    },
    {
     "name": "stdout",
     "output_type": "stream",
     "text": [
      "Title: Writing activities to SQLite3 database:\n",
      "  Started: 07/03/2020 09:14:23\n",
      "  Finished: 07/03/2020 09:15:25\n",
      "  Total time elapsed: 00:01:02\n",
      "  CPU %: 83.00\n",
      "  Memory %: 9.91\n",
      "Created database: ecoinvent 3.6 cutoff\n"
     ]
    },
    {
     "data": {
      "text/plain": [
       "Brightway2 SQLiteBackend: ecoinvent 3.6 cutoff"
      ]
     },
     "execution_count": 12,
     "metadata": {},
     "output_type": "execute_result"
    }
   ],
   "source": [
    "ei.write_database()"
   ]
  }
 ],
 "metadata": {
  "kernelspec": {
   "display_name": "Python 3",
   "language": "python",
   "name": "python3"
  },
  "language_info": {
   "codemirror_mode": {
    "name": "ipython",
    "version": 3
   },
   "file_extension": ".py",
   "mimetype": "text/x-python",
   "name": "python",
   "nbconvert_exporter": "python",
   "pygments_lexer": "ipython3",
   "version": "3.7.6"
  }
 },
 "nbformat": 4,
 "nbformat_minor": 4
}
