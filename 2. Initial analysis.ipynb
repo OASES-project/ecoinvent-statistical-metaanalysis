{
 "cells": [
  {
   "cell_type": "markdown",
   "metadata": {},
   "source": [
    "# Initial analysis\n",
    "\n",
    "We want to see how \"wide\" the uncertainty distributions in `ecoinvent 3.6 (cutoff system model)` are, and whether these values are reasonable.\n",
    "\n",
    "\n",
    "We start by importing the necessary libraries, and switching to the Brightway project that was set up in notebook 1."
   ]
  },
  {
   "cell_type": "code",
   "execution_count": 1,
   "metadata": {},
   "outputs": [],
   "source": [
    "%matplotlib inline"
   ]
  },
  {
   "cell_type": "code",
   "execution_count": 2,
   "metadata": {},
   "outputs": [],
   "source": [
    "import seaborn as sb\n",
    "import matplotlib.pyplot as plt"
   ]
  },
  {
   "cell_type": "code",
   "execution_count": 3,
   "metadata": {},
   "outputs": [],
   "source": [
    "import bw2data as bwd\n",
    "import bw_processing as bwp\n",
    "import stats_arrays as sa\n",
    "import pandas as pd\n",
    "import numpy as np"
   ]
  },
  {
   "cell_type": "code",
   "execution_count": 4,
   "metadata": {},
   "outputs": [],
   "source": [
    "bwd.projects.set_current(\"OASES uncertainty review\")"
   ]
  },
  {
   "cell_type": "code",
   "execution_count": 5,
   "metadata": {},
   "outputs": [],
   "source": [
    "db = bwd.Database(\"ecoinvent 3.6 cutoff\")"
   ]
  },
  {
   "cell_type": "markdown",
   "metadata": {},
   "source": [
    "Let's get some statistics on the number of exchanges, and their frequency, in both the technosphere and biosphere matrices."
   ]
  },
  {
   "cell_type": "code",
   "execution_count": 6,
   "metadata": {},
   "outputs": [],
   "source": [
    "package = bwp.load_package(db.filepath_processed())\n",
    "technosphere_array = package['technosphere_matrix.npy']\n",
    "biosphere_array = package['biosphere_matrix.npy']"
   ]
  },
  {
   "cell_type": "code",
   "execution_count": 7,
   "metadata": {},
   "outputs": [],
   "source": [
    "def get_statistics(array):\n",
    "    return pd.DataFrame([\n",
    "        {\n",
    "            'name': sa.uncertainty_choices[i].description, \n",
    "            'id': i,\n",
    "            'count': (array['uncertainty_type'] == i).sum()\n",
    "        }\n",
    "        for i in np.unique(technosphere_array['uncertainty_type'])\n",
    "    ]).set_index('name')"
   ]
  },
  {
   "cell_type": "code",
   "execution_count": 8,
   "metadata": {},
   "outputs": [
    {
     "data": {
      "text/html": [
       "<div>\n",
       "<style scoped>\n",
       "    .dataframe tbody tr th:only-of-type {\n",
       "        vertical-align: middle;\n",
       "    }\n",
       "\n",
       "    .dataframe tbody tr th {\n",
       "        vertical-align: top;\n",
       "    }\n",
       "\n",
       "    .dataframe thead th {\n",
       "        text-align: right;\n",
       "    }\n",
       "</style>\n",
       "<table border=\"1\" class=\"dataframe\">\n",
       "  <thead>\n",
       "    <tr style=\"text-align: right;\">\n",
       "      <th></th>\n",
       "      <th>id</th>\n",
       "      <th>count</th>\n",
       "    </tr>\n",
       "    <tr>\n",
       "      <th>name</th>\n",
       "      <th></th>\n",
       "      <th></th>\n",
       "    </tr>\n",
       "  </thead>\n",
       "  <tbody>\n",
       "    <tr>\n",
       "      <th>Undefined or unknown uncertainty</th>\n",
       "      <td>0</td>\n",
       "      <td>45906</td>\n",
       "    </tr>\n",
       "    <tr>\n",
       "      <th>Lognormal uncertainty</th>\n",
       "      <td>2</td>\n",
       "      <td>162184</td>\n",
       "    </tr>\n",
       "    <tr>\n",
       "      <th>Normal uncertainty</th>\n",
       "      <td>3</td>\n",
       "      <td>1</td>\n",
       "    </tr>\n",
       "    <tr>\n",
       "      <th>Uniform uncertainty</th>\n",
       "      <td>4</td>\n",
       "      <td>1</td>\n",
       "    </tr>\n",
       "    <tr>\n",
       "      <th>Triangular uncertainty</th>\n",
       "      <td>5</td>\n",
       "      <td>115</td>\n",
       "    </tr>\n",
       "  </tbody>\n",
       "</table>\n",
       "</div>"
      ],
      "text/plain": [
       "                                  id   count\n",
       "name                                        \n",
       "Undefined or unknown uncertainty   0   45906\n",
       "Lognormal uncertainty              2  162184\n",
       "Normal uncertainty                 3       1\n",
       "Uniform uncertainty                4       1\n",
       "Triangular uncertainty             5     115"
      ]
     },
     "execution_count": 8,
     "metadata": {},
     "output_type": "execute_result"
    }
   ],
   "source": [
    "get_statistics(technosphere_array)"
   ]
  },
  {
   "cell_type": "code",
   "execution_count": 9,
   "metadata": {},
   "outputs": [
    {
     "data": {
      "text/html": [
       "<div>\n",
       "<style scoped>\n",
       "    .dataframe tbody tr th:only-of-type {\n",
       "        vertical-align: middle;\n",
       "    }\n",
       "\n",
       "    .dataframe tbody tr th {\n",
       "        vertical-align: top;\n",
       "    }\n",
       "\n",
       "    .dataframe thead th {\n",
       "        text-align: right;\n",
       "    }\n",
       "</style>\n",
       "<table border=\"1\" class=\"dataframe\">\n",
       "  <thead>\n",
       "    <tr style=\"text-align: right;\">\n",
       "      <th></th>\n",
       "      <th>id</th>\n",
       "      <th>count</th>\n",
       "    </tr>\n",
       "    <tr>\n",
       "      <th>name</th>\n",
       "      <th></th>\n",
       "      <th></th>\n",
       "    </tr>\n",
       "  </thead>\n",
       "  <tbody>\n",
       "    <tr>\n",
       "      <th>Undefined or unknown uncertainty</th>\n",
       "      <td>0</td>\n",
       "      <td>192944</td>\n",
       "    </tr>\n",
       "    <tr>\n",
       "      <th>Lognormal uncertainty</th>\n",
       "      <td>2</td>\n",
       "      <td>213931</td>\n",
       "    </tr>\n",
       "    <tr>\n",
       "      <th>Normal uncertainty</th>\n",
       "      <td>3</td>\n",
       "      <td>500</td>\n",
       "    </tr>\n",
       "    <tr>\n",
       "      <th>Uniform uncertainty</th>\n",
       "      <td>4</td>\n",
       "      <td>0</td>\n",
       "    </tr>\n",
       "    <tr>\n",
       "      <th>Triangular uncertainty</th>\n",
       "      <td>5</td>\n",
       "      <td>62</td>\n",
       "    </tr>\n",
       "  </tbody>\n",
       "</table>\n",
       "</div>"
      ],
      "text/plain": [
       "                                  id   count\n",
       "name                                        \n",
       "Undefined or unknown uncertainty   0  192944\n",
       "Lognormal uncertainty              2  213931\n",
       "Normal uncertainty                 3     500\n",
       "Uniform uncertainty                4       0\n",
       "Triangular uncertainty             5      62"
      ]
     },
     "execution_count": 9,
     "metadata": {},
     "output_type": "execute_result"
    }
   ],
   "source": [
    "get_statistics(biosphere_array)"
   ]
  },
  {
   "cell_type": "markdown",
   "metadata": {},
   "source": [
    "Our main emphasis will be on the lognormal distribution, but let's make sure the normal and triangular values are reasonable."
   ]
  },
  {
   "cell_type": "markdown",
   "metadata": {},
   "source": [
    "# Utility function to look up exchanges"
   ]
  },
  {
   "cell_type": "code",
   "execution_count": 10,
   "metadata": {},
   "outputs": [],
   "source": [
    "def label_exchanges(array):\n",
    "    rm = {j: i for i, j in bwd.mapping.items()}\n",
    "    inputs = [bwd.get_activity(rm[i]) for i in array['row_value']]\n",
    "    outputs = [bwd.get_activity(rm[i]) for i in array['col_value']]\n",
    "    return pd.DataFrame([{\n",
    "        'input name': i['name'],\n",
    "        'input location': i.get('location'),\n",
    "        'input unit': i['unit'],\n",
    "        'output name': o['name'],\n",
    "        'output location': o.get('location'),\n",
    "        'output unit': o['unit'],\n",
    "        'amount': r['amount'],\n",
    "        'minimum': r['minimum'],\n",
    "        'maximum': r['maximum'],\n",
    "        'scale': r['scale'],\n",
    "        'shape': r['shape']\n",
    "    } for i, o, r in zip(inputs, outputs, array)])"
   ]
  },
  {
   "cell_type": "markdown",
   "metadata": {},
   "source": [
    "# Triangular distributions"
   ]
  },
  {
   "cell_type": "code",
   "execution_count": 11,
   "metadata": {},
   "outputs": [
    {
     "data": {
      "text/plain": [
       "(615644,)"
      ]
     },
     "execution_count": 11,
     "metadata": {},
     "output_type": "execute_result"
    }
   ],
   "source": [
    "all_array = np.hstack([technosphere_array, biosphere_array])\n",
    "all_array.shape"
   ]
  },
  {
   "cell_type": "code",
   "execution_count": 12,
   "metadata": {},
   "outputs": [],
   "source": [
    "triangular = all_array[all_array['uncertainty_type'] == sa.TriangularUncertainty.id]"
   ]
  },
  {
   "cell_type": "markdown",
   "metadata": {},
   "source": [
    "## Ratio of mode to mean and medium"
   ]
  },
  {
   "cell_type": "code",
   "execution_count": 13,
   "metadata": {},
   "outputs": [
    {
     "data": {
      "text/plain": [
       "Text(0, 0.5, 'probability')"
      ]
     },
     "execution_count": 13,
     "metadata": {},
     "output_type": "execute_result"
    },
    {
     "data": {
      "image/png": "[encoded data removed]",
      "text/plain": [
       "<Figure size 576x288 with 1 Axes>"
      ]
     },
     "metadata": {
      "needs_background": "light"
     },
     "output_type": "display_data"
    }
   ],
   "source": [
    "ratio_mean = (triangular['maximum'] + triangular['minimum'] + triangular['loc']) / 3 / triangular['loc']\n",
    "plt.figure(figsize=(8, 4))\n",
    "sb.distplot(ratio_mean)\n",
    "plt.xlabel(\"mean / mode\")\n",
    "plt.ylabel(\"probability\")"
   ]
  },
  {
   "cell_type": "code",
   "execution_count": 14,
   "metadata": {},
   "outputs": [
    {
     "data": {
      "text/plain": [
       "Text(0, 0.5, 'probability')"
      ]
     },
     "execution_count": 14,
     "metadata": {},
     "output_type": "execute_result"
    },
    {
     "data": {
      "image/png": "[encoded data removed]",
      "text/plain": [
       "<Figure size 576x288 with 1 Axes>"
      ]
     },
     "metadata": {
      "needs_background": "light"
     },
     "output_type": "display_data"
    }
   ],
   "source": [
    "ratio_mean = sa.TriangularUncertainty.ppf(triangular, np.ones(triangular.shape) * 0.5).ravel() / triangular['loc']\n",
    "plt.figure(figsize=(8, 4))\n",
    "sb.distplot(ratio_mean)\n",
    "plt.xlabel(\"median / mode\")\n",
    "plt.ylabel(\"probability\")"
   ]
  },
  {
   "cell_type": "markdown",
   "metadata": {},
   "source": [
    "# Look into high values"
   ]
  },
  {
   "cell_type": "code",
   "execution_count": 15,
   "metadata": {},
   "outputs": [
    {
     "data": {
      "text/html": [
       "<div>\n",
       "<style scoped>\n",
       "    .dataframe tbody tr th:only-of-type {\n",
       "        vertical-align: middle;\n",
       "    }\n",
       "\n",
       "    .dataframe tbody tr th {\n",
       "        vertical-align: top;\n",
       "    }\n",
       "\n",
       "    .dataframe thead th {\n",
       "        text-align: right;\n",
       "    }\n",
       "</style>\n",
       "<table border=\"1\" class=\"dataframe\">\n",
       "  <thead>\n",
       "    <tr style=\"text-align: right;\">\n",
       "      <th></th>\n",
       "      <th>input name</th>\n",
       "      <th>input location</th>\n",
       "      <th>input unit</th>\n",
       "      <th>output name</th>\n",
       "      <th>output location</th>\n",
       "      <th>output unit</th>\n",
       "      <th>amount</th>\n",
       "      <th>minimum</th>\n",
       "      <th>maximum</th>\n",
       "      <th>scale</th>\n",
       "      <th>shape</th>\n",
       "    </tr>\n",
       "  </thead>\n",
       "  <tbody>\n",
       "    <tr>\n",
       "      <th>0</th>\n",
       "      <td>market for chemical, organic</td>\n",
       "      <td>GLO</td>\n",
       "      <td>kilogram</td>\n",
       "      <td>tissue paper production, virgin</td>\n",
       "      <td>GLO</td>\n",
       "      <td>kilogram</td>\n",
       "      <td>1.000000e-03</td>\n",
       "      <td>0.000000e+00</td>\n",
       "      <td>2.000000e+00</td>\n",
       "      <td>NaN</td>\n",
       "      <td>NaN</td>\n",
       "    </tr>\n",
       "    <tr>\n",
       "      <th>1</th>\n",
       "      <td>market for rosin size, for paper production</td>\n",
       "      <td>RER</td>\n",
       "      <td>kilogram</td>\n",
       "      <td>tissue paper production, virgin</td>\n",
       "      <td>GLO</td>\n",
       "      <td>kilogram</td>\n",
       "      <td>1.293623e-02</td>\n",
       "      <td>0.000000e+00</td>\n",
       "      <td>8.000000e+01</td>\n",
       "      <td>NaN</td>\n",
       "      <td>NaN</td>\n",
       "    </tr>\n",
       "    <tr>\n",
       "      <th>2</th>\n",
       "      <td>market for sodium hydroxide, without water, in...</td>\n",
       "      <td>GLO</td>\n",
       "      <td>kilogram</td>\n",
       "      <td>treatment of sulfidic tailing, off-site, high ...</td>\n",
       "      <td>ZA</td>\n",
       "      <td>kilogram</td>\n",
       "      <td>2.143470e+03</td>\n",
       "      <td>8.304100e+02</td>\n",
       "      <td>1.192920e+06</td>\n",
       "      <td>NaN</td>\n",
       "      <td>NaN</td>\n",
       "    </tr>\n",
       "    <tr>\n",
       "      <th>3</th>\n",
       "      <td>market for rosin size, for paper production</td>\n",
       "      <td>RoW</td>\n",
       "      <td>kilogram</td>\n",
       "      <td>tissue paper production, virgin</td>\n",
       "      <td>GLO</td>\n",
       "      <td>kilogram</td>\n",
       "      <td>2.706377e-02</td>\n",
       "      <td>0.000000e+00</td>\n",
       "      <td>8.000000e+01</td>\n",
       "      <td>NaN</td>\n",
       "      <td>NaN</td>\n",
       "    </tr>\n",
       "    <tr>\n",
       "      <th>4</th>\n",
       "      <td>market for chemicals, inorganic</td>\n",
       "      <td>GLO</td>\n",
       "      <td>kilogram</td>\n",
       "      <td>tissue paper production, virgin</td>\n",
       "      <td>GLO</td>\n",
       "      <td>kilogram</td>\n",
       "      <td>1.000000e-02</td>\n",
       "      <td>0.000000e+00</td>\n",
       "      <td>2.000000e+01</td>\n",
       "      <td>NaN</td>\n",
       "      <td>NaN</td>\n",
       "    </tr>\n",
       "    <tr>\n",
       "      <th>5</th>\n",
       "      <td>Transformation, from unspecified</td>\n",
       "      <td>None</td>\n",
       "      <td>square meter</td>\n",
       "      <td>mine construction, gold</td>\n",
       "      <td>ZA</td>\n",
       "      <td>unit</td>\n",
       "      <td>6.780000e+07</td>\n",
       "      <td>1.300000e+07</td>\n",
       "      <td>1.740000e+10</td>\n",
       "      <td>NaN</td>\n",
       "      <td>NaN</td>\n",
       "    </tr>\n",
       "    <tr>\n",
       "      <th>6</th>\n",
       "      <td>Transformation, to unspecified</td>\n",
       "      <td>None</td>\n",
       "      <td>square meter</td>\n",
       "      <td>mine construction, gold</td>\n",
       "      <td>ZA</td>\n",
       "      <td>unit</td>\n",
       "      <td>6.780000e+07</td>\n",
       "      <td>1.300000e+07</td>\n",
       "      <td>1.740000e+10</td>\n",
       "      <td>NaN</td>\n",
       "      <td>NaN</td>\n",
       "    </tr>\n",
       "  </tbody>\n",
       "</table>\n",
       "</div>"
      ],
      "text/plain": [
       "                                          input name input location  \\\n",
       "0                       market for chemical, organic            GLO   \n",
       "1        market for rosin size, for paper production            RER   \n",
       "2  market for sodium hydroxide, without water, in...            GLO   \n",
       "3        market for rosin size, for paper production            RoW   \n",
       "4                    market for chemicals, inorganic            GLO   \n",
       "5                   Transformation, from unspecified           None   \n",
       "6                     Transformation, to unspecified           None   \n",
       "\n",
       "     input unit                                        output name  \\\n",
       "0      kilogram                    tissue paper production, virgin   \n",
       "1      kilogram                    tissue paper production, virgin   \n",
       "2      kilogram  treatment of sulfidic tailing, off-site, high ...   \n",
       "3      kilogram                    tissue paper production, virgin   \n",
       "4      kilogram                    tissue paper production, virgin   \n",
       "5  square meter                            mine construction, gold   \n",
       "6  square meter                            mine construction, gold   \n",
       "\n",
       "  output location output unit        amount       minimum       maximum  \\\n",
       "0             GLO    kilogram  1.000000e-03  0.000000e+00  2.000000e+00   \n",
       "1             GLO    kilogram  1.293623e-02  0.000000e+00  8.000000e+01   \n",
       "2              ZA    kilogram  2.143470e+03  8.304100e+02  1.192920e+06   \n",
       "3             GLO    kilogram  2.706377e-02  0.000000e+00  8.000000e+01   \n",
       "4             GLO    kilogram  1.000000e-02  0.000000e+00  2.000000e+01   \n",
       "5              ZA        unit  6.780000e+07  1.300000e+07  1.740000e+10   \n",
       "6              ZA        unit  6.780000e+07  1.300000e+07  1.740000e+10   \n",
       "\n",
       "   scale  shape  \n",
       "0    NaN    NaN  \n",
       "1    NaN    NaN  \n",
       "2    NaN    NaN  \n",
       "3    NaN    NaN  \n",
       "4    NaN    NaN  \n",
       "5    NaN    NaN  \n",
       "6    NaN    NaN  "
      ]
     },
     "execution_count": 15,
     "metadata": {},
     "output_type": "execute_result"
    }
   ],
   "source": [
    "mask = ((triangular['maximum'] + triangular['minimum'] + triangular['loc']) / 3 / triangular['loc']) > 25\n",
    "label_exchanges(triangular[mask])"
   ]
  },
  {
   "cell_type": "markdown",
   "metadata": {},
   "source": [
    "It is clear that the tissue paper producers have some strange values (80 kg of rosin paper for 1 kg of tissue paper), but this should not effect our results."
   ]
  },
  {
   "cell_type": "markdown",
   "metadata": {},
   "source": [
    "# Normal distribution"
   ]
  },
  {
   "cell_type": "code",
   "execution_count": 16,
   "metadata": {},
   "outputs": [],
   "source": [
    "normal = all_array[all_array['uncertainty_type'] == sa.NormalUncertainty.id]"
   ]
  },
  {
   "cell_type": "markdown",
   "metadata": {},
   "source": [
    "## Ratio of mode to mean"
   ]
  },
  {
   "cell_type": "code",
   "execution_count": 17,
   "metadata": {},
   "outputs": [
    {
     "name": "stderr",
     "output_type": "stream",
     "text": [
      "/Users/cmutel/miniconda3/envs/bw2dev/lib/python3.7/site-packages/seaborn/distributions.py:283: UserWarning: Data must have variance to compute a kernel density estimate.\n",
      "  warnings.warn(msg, UserWarning)\n"
     ]
    },
    {
     "data": {
      "text/plain": [
       "Text(0, 0.5, 'probability')"
      ]
     },
     "execution_count": 17,
     "metadata": {},
     "output_type": "execute_result"
    },
    {
     "data": {
      "image/png": "[encoded data removed]",
      "text/plain": [
       "<Figure size 576x288 with 1 Axes>"
      ]
     },
     "metadata": {
      "needs_background": "light"
     },
     "output_type": "display_data"
    }
   ],
   "source": [
    "ratio_mean = sa.NormalUncertainty.ppf(normal, np.ones(normal.shape) * 0.5).ravel() / normal['loc']\n",
    "plt.figure(figsize=(8, 4))\n",
    "sb.distplot(ratio_mean)\n",
    "plt.xlabel(\"median / mode\")\n",
    "plt.ylabel(\"probability\")"
   ]
  },
  {
   "cell_type": "markdown",
   "metadata": {},
   "source": [
    "All median values are correctly the same as mean (and mode).\n",
    "\n",
    "What about the chance that a given exchange is negative?"
   ]
  },
  {
   "cell_type": "code",
   "execution_count": 18,
   "metadata": {},
   "outputs": [
    {
     "data": {
      "text/plain": [
       "Text(0, 0.5, 'probability')"
      ]
     },
     "execution_count": 18,
     "metadata": {},
     "output_type": "execute_result"
    },
    {
     "data": {
      "image/png": "[encoded data removed]",
      "text/plain": [
       "<Figure size 576x288 with 1 Axes>"
      ]
     },
     "metadata": {
      "needs_background": "light"
     },
     "output_type": "display_data"
    }
   ],
   "source": [
    "ratio_mean = sa.NormalUncertainty.cdf(normal, np.zeros(normal.shape)).ravel()\n",
    "plt.figure(figsize=(8, 4))\n",
    "sb.distplot(ratio_mean)\n",
    "plt.xlabel(\"fraction of distribution below zero\")\n",
    "plt.ylabel(\"probability\")"
   ]
  },
  {
   "cell_type": "markdown",
   "metadata": {},
   "source": [
    "There are a lot of distributions where zero has a high probability of occurring. How many exactly?"
   ]
  },
  {
   "cell_type": "code",
   "execution_count": 19,
   "metadata": {},
   "outputs": [
    {
     "data": {
      "text/plain": [
       "485"
      ]
     },
     "execution_count": 19,
     "metadata": {},
     "output_type": "execute_result"
    }
   ],
   "source": [
    "(sa.NormalUncertainty.cdf(normal, np.zeros(normal.shape)).ravel() > 0.25).sum()"
   ]
  },
  {
   "cell_type": "code",
   "execution_count": 20,
   "metadata": {},
   "outputs": [
    {
     "data": {
      "text/html": [
       "<div>\n",
       "<style scoped>\n",
       "    .dataframe tbody tr th:only-of-type {\n",
       "        vertical-align: middle;\n",
       "    }\n",
       "\n",
       "    .dataframe tbody tr th {\n",
       "        vertical-align: top;\n",
       "    }\n",
       "\n",
       "    .dataframe thead th {\n",
       "        text-align: right;\n",
       "    }\n",
       "</style>\n",
       "<table border=\"1\" class=\"dataframe\">\n",
       "  <thead>\n",
       "    <tr style=\"text-align: right;\">\n",
       "      <th></th>\n",
       "      <th>input name</th>\n",
       "      <th>input location</th>\n",
       "      <th>input unit</th>\n",
       "      <th>output name</th>\n",
       "      <th>output location</th>\n",
       "      <th>output unit</th>\n",
       "      <th>amount</th>\n",
       "      <th>minimum</th>\n",
       "      <th>maximum</th>\n",
       "      <th>scale</th>\n",
       "      <th>shape</th>\n",
       "    </tr>\n",
       "  </thead>\n",
       "  <tbody>\n",
       "    <tr>\n",
       "      <th>0</th>\n",
       "      <td>Cadmium</td>\n",
       "      <td>None</td>\n",
       "      <td>kilogram</td>\n",
       "      <td>fattening of heifers for beef cattle productio...</td>\n",
       "      <td>RoW</td>\n",
       "      <td>kilogram</td>\n",
       "      <td>0.000095</td>\n",
       "      <td>NaN</td>\n",
       "      <td>NaN</td>\n",
       "      <td>0.307571</td>\n",
       "      <td>NaN</td>\n",
       "    </tr>\n",
       "    <tr>\n",
       "      <th>1</th>\n",
       "      <td>Cadmium</td>\n",
       "      <td>None</td>\n",
       "      <td>kilogram</td>\n",
       "      <td>beef cattle production on pasture and proteic ...</td>\n",
       "      <td>RoW</td>\n",
       "      <td>kilogram</td>\n",
       "      <td>0.000352</td>\n",
       "      <td>NaN</td>\n",
       "      <td>NaN</td>\n",
       "      <td>0.307571</td>\n",
       "      <td>NaN</td>\n",
       "    </tr>\n",
       "    <tr>\n",
       "      <th>2</th>\n",
       "      <td>Cadmium</td>\n",
       "      <td>None</td>\n",
       "      <td>kilogram</td>\n",
       "      <td>intensive beef cattle production, fat steers o...</td>\n",
       "      <td>BR</td>\n",
       "      <td>kilogram</td>\n",
       "      <td>0.000168</td>\n",
       "      <td>NaN</td>\n",
       "      <td>NaN</td>\n",
       "      <td>0.307571</td>\n",
       "      <td>NaN</td>\n",
       "    </tr>\n",
       "    <tr>\n",
       "      <th>3</th>\n",
       "      <td>Cadmium</td>\n",
       "      <td>None</td>\n",
       "      <td>kilogram</td>\n",
       "      <td>beef cattle production on pasture and proteic ...</td>\n",
       "      <td>BR</td>\n",
       "      <td>kilogram</td>\n",
       "      <td>0.000327</td>\n",
       "      <td>NaN</td>\n",
       "      <td>NaN</td>\n",
       "      <td>0.307571</td>\n",
       "      <td>NaN</td>\n",
       "    </tr>\n",
       "    <tr>\n",
       "      <th>4</th>\n",
       "      <td>Cadmium</td>\n",
       "      <td>None</td>\n",
       "      <td>kilogram</td>\n",
       "      <td>beef cattle production on pasture and feedlot</td>\n",
       "      <td>RoW</td>\n",
       "      <td>kilogram</td>\n",
       "      <td>0.000150</td>\n",
       "      <td>NaN</td>\n",
       "      <td>NaN</td>\n",
       "      <td>0.307571</td>\n",
       "      <td>NaN</td>\n",
       "    </tr>\n",
       "    <tr>\n",
       "      <th>...</th>\n",
       "      <td>...</td>\n",
       "      <td>...</td>\n",
       "      <td>...</td>\n",
       "      <td>...</td>\n",
       "      <td>...</td>\n",
       "      <td>...</td>\n",
       "      <td>...</td>\n",
       "      <td>...</td>\n",
       "      <td>...</td>\n",
       "      <td>...</td>\n",
       "      <td>...</td>\n",
       "    </tr>\n",
       "    <tr>\n",
       "      <th>480</th>\n",
       "      <td>Carbon dioxide, from soil or biomass stock</td>\n",
       "      <td>None</td>\n",
       "      <td>kilogram</td>\n",
       "      <td>fennel production</td>\n",
       "      <td>GLO</td>\n",
       "      <td>kilogram</td>\n",
       "      <td>0.054578</td>\n",
       "      <td>NaN</td>\n",
       "      <td>NaN</td>\n",
       "      <td>0.738377</td>\n",
       "      <td>NaN</td>\n",
       "    </tr>\n",
       "    <tr>\n",
       "      <th>481</th>\n",
       "      <td>Carbon dioxide, from soil or biomass stock</td>\n",
       "      <td>None</td>\n",
       "      <td>kilogram</td>\n",
       "      <td>strawberry production, open field, macro tunnel</td>\n",
       "      <td>RoW</td>\n",
       "      <td>kilogram</td>\n",
       "      <td>0.003314</td>\n",
       "      <td>NaN</td>\n",
       "      <td>NaN</td>\n",
       "      <td>0.738377</td>\n",
       "      <td>NaN</td>\n",
       "    </tr>\n",
       "    <tr>\n",
       "      <th>482</th>\n",
       "      <td>Carbon dioxide, from soil or biomass stock</td>\n",
       "      <td>None</td>\n",
       "      <td>kilogram</td>\n",
       "      <td>iceberg lettuce production</td>\n",
       "      <td>GLO</td>\n",
       "      <td>kilogram</td>\n",
       "      <td>0.007256</td>\n",
       "      <td>NaN</td>\n",
       "      <td>NaN</td>\n",
       "      <td>0.738377</td>\n",
       "      <td>NaN</td>\n",
       "    </tr>\n",
       "    <tr>\n",
       "      <th>483</th>\n",
       "      <td>Carbon dioxide, from soil or biomass stock</td>\n",
       "      <td>None</td>\n",
       "      <td>kilogram</td>\n",
       "      <td>coconut production, dehusked</td>\n",
       "      <td>RoW</td>\n",
       "      <td>kilogram</td>\n",
       "      <td>0.103189</td>\n",
       "      <td>NaN</td>\n",
       "      <td>NaN</td>\n",
       "      <td>0.738377</td>\n",
       "      <td>NaN</td>\n",
       "    </tr>\n",
       "    <tr>\n",
       "      <th>484</th>\n",
       "      <td>Carbon dioxide, from soil or biomass stock</td>\n",
       "      <td>None</td>\n",
       "      <td>kilogram</td>\n",
       "      <td>aubergine production, in heated greenhouse</td>\n",
       "      <td>GLO</td>\n",
       "      <td>kilogram</td>\n",
       "      <td>0.005880</td>\n",
       "      <td>NaN</td>\n",
       "      <td>NaN</td>\n",
       "      <td>0.738377</td>\n",
       "      <td>NaN</td>\n",
       "    </tr>\n",
       "  </tbody>\n",
       "</table>\n",
       "<p>485 rows × 11 columns</p>\n",
       "</div>"
      ],
      "text/plain": [
       "                                     input name input location input unit  \\\n",
       "0                                       Cadmium           None   kilogram   \n",
       "1                                       Cadmium           None   kilogram   \n",
       "2                                       Cadmium           None   kilogram   \n",
       "3                                       Cadmium           None   kilogram   \n",
       "4                                       Cadmium           None   kilogram   \n",
       "..                                          ...            ...        ...   \n",
       "480  Carbon dioxide, from soil or biomass stock           None   kilogram   \n",
       "481  Carbon dioxide, from soil or biomass stock           None   kilogram   \n",
       "482  Carbon dioxide, from soil or biomass stock           None   kilogram   \n",
       "483  Carbon dioxide, from soil or biomass stock           None   kilogram   \n",
       "484  Carbon dioxide, from soil or biomass stock           None   kilogram   \n",
       "\n",
       "                                           output name output location  \\\n",
       "0    fattening of heifers for beef cattle productio...             RoW   \n",
       "1    beef cattle production on pasture and proteic ...             RoW   \n",
       "2    intensive beef cattle production, fat steers o...              BR   \n",
       "3    beef cattle production on pasture and proteic ...              BR   \n",
       "4        beef cattle production on pasture and feedlot             RoW   \n",
       "..                                                 ...             ...   \n",
       "480                                  fennel production             GLO   \n",
       "481    strawberry production, open field, macro tunnel             RoW   \n",
       "482                         iceberg lettuce production             GLO   \n",
       "483                       coconut production, dehusked             RoW   \n",
       "484         aubergine production, in heated greenhouse             GLO   \n",
       "\n",
       "    output unit    amount  minimum  maximum     scale  shape  \n",
       "0      kilogram  0.000095      NaN      NaN  0.307571    NaN  \n",
       "1      kilogram  0.000352      NaN      NaN  0.307571    NaN  \n",
       "2      kilogram  0.000168      NaN      NaN  0.307571    NaN  \n",
       "3      kilogram  0.000327      NaN      NaN  0.307571    NaN  \n",
       "4      kilogram  0.000150      NaN      NaN  0.307571    NaN  \n",
       "..          ...       ...      ...      ...       ...    ...  \n",
       "480    kilogram  0.054578      NaN      NaN  0.738377    NaN  \n",
       "481    kilogram  0.003314      NaN      NaN  0.738377    NaN  \n",
       "482    kilogram  0.007256      NaN      NaN  0.738377    NaN  \n",
       "483    kilogram  0.103189      NaN      NaN  0.738377    NaN  \n",
       "484    kilogram  0.005880      NaN      NaN  0.738377    NaN  \n",
       "\n",
       "[485 rows x 11 columns]"
      ]
     },
     "execution_count": 20,
     "metadata": {},
     "output_type": "execute_result"
    }
   ],
   "source": [
    "mask = (sa.NormalUncertainty.cdf(normal, np.zeros(normal.shape)).ravel() > 0.25)\n",
    "labelled = label_exchanges(normal[mask])\n",
    "labelled"
   ]
  },
  {
   "cell_type": "code",
   "execution_count": 21,
   "metadata": {},
   "outputs": [
    {
     "data": {
      "text/plain": [
       "Lead                                          69\n",
       "Carbon dioxide, from soil or biomass stock    48\n",
       "Chromium                                      44\n",
       "Copper                                        38\n",
       "Nickel                                        38\n",
       "Zinc, ion                                     37\n",
       "Copper, ion                                   36\n",
       "Nickel, ion                                   35\n",
       "Cadmium, ion                                  33\n",
       "Cadmium                                       33\n",
       "Chromium, ion                                 33\n",
       "Zinc                                          33\n",
       "Mercury                                        7\n",
       "Water                                          1\n",
       "Name: input name, dtype: int64"
      ]
     },
     "execution_count": 21,
     "metadata": {},
     "output_type": "execute_result"
    }
   ],
   "source": [
    "labelled['input name'].value_counts()"
   ]
  },
  {
   "cell_type": "code",
   "execution_count": 22,
   "metadata": {},
   "outputs": [
    {
     "data": {
      "text/plain": [
       "intensive beef cattle production on pasture                      72\n",
       "intensive beef cattle production, fat steers only, on pasture    48\n",
       "beef cattle production on pasture and feedlot                    48\n",
       "beef cattle production on pasture and proteic supplement         48\n",
       "weaned calves production on pasture                              36\n",
       "                                                                 ..\n",
       "apple production                                                  1\n",
       "grape production                                                  1\n",
       "cauliflower production                                            1\n",
       "cucumber production                                               1\n",
       "lettuce361 production                                             1\n",
       "Name: output name, Length: 66, dtype: int64"
      ]
     },
     "execution_count": 22,
     "metadata": {},
     "output_type": "execute_result"
    }
   ],
   "source": [
    "labelled['output name'].value_counts()"
   ]
  },
  {
   "cell_type": "markdown",
   "metadata": {},
   "source": [
    "I don't see how these values could be physically negative; therefore, we should limit them to be greater than or equal to zero.\n",
    "\n",
    "In the longer term, these high uncertainties should be better characterized."
   ]
  }
 ],
 "metadata": {
  "kernelspec": {
   "display_name": "Python 3",
   "language": "python",
   "name": "python3"
  },
  "language_info": {
   "codemirror_mode": {
    "name": "ipython",
    "version": 3
   },
   "file_extension": ".py",
   "mimetype": "text/x-python",
   "name": "python",
   "nbconvert_exporter": "python",
   "pygments_lexer": "ipython3",
   "version": "3.7.6"
  }
 },
 "nbformat": 4,
 "nbformat_minor": 4
}
